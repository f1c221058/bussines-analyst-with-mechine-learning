{
 "cells": [
  {
   "cell_type": "code",
   "execution_count": 3,
   "id": "cf2b1ba4-d86d-416d-8058-25e877d6e25f",
   "metadata": {},
   "outputs": [
    {
     "name": "stdout",
     "output_type": "stream",
     "text": [
      "             trx_id    product_id    trx_date  units\n",
      "0        DQTrx00001  DQProduk-004  2024-01-01      1\n",
      "1        DQTrx00002  DQProduk-001  2024-01-01      1\n",
      "2        DQTrx00003  DQProduk-008  2024-01-01      1\n",
      "3        DQTrx00004  DQProduk-007  2024-01-01      1\n",
      "4        DQTrx00005  DQProduk-018  2024-01-01      1\n",
      "...             ...           ...         ...    ...\n",
      "829257  DQTrx829258  DQProduk-019  2025-09-30      1\n",
      "829258  DQTrx829259  DQProduk-035  2025-09-30      1\n",
      "829259  DQTrx829260  DQProduk-019  2025-09-30      1\n",
      "829260  DQTrx829261  DQProduk-002  2025-09-30      2\n",
      "829261  DQTrx829262  DQProduk-006  2025-09-30      1\n",
      "\n",
      "[829262 rows x 4 columns]\n"
     ]
    }
   ],
   "source": [
    "#Import library pandas dan prophet\n",
    "import pandas as pd\n",
    "from prophet import Prophet\n",
    "\n",
    "#Baca dan tampilkan dataset 'sales.csv' menggunakan read_csv dari library pandas.\n",
    "df = pd.read_csv('https://storage.googleapis.com/dqlab-dataset/sales.csv')\n",
    "\n",
    "#Tampilkan dataframe sales.csv\n",
    "print(df)\n",
    "\n"
   ]
  },
  {
   "cell_type": "code",
   "execution_count": null,
   "id": "f2c5a5d0-0ede-44ec-885a-489a40ca00a6",
   "metadata": {},
   "outputs": [],
   "source": []
  },
  {
   "cell_type": "code",
   "execution_count": null,
   "id": "3c6d2e12-87dc-42f4-8593-5ba3f1cb90fc",
   "metadata": {},
   "outputs": [],
   "source": []
  },
  {
   "cell_type": "code",
   "execution_count": null,
   "id": "e9a713b5-1131-4a64-8aa8-dece49cbe7ec",
   "metadata": {},
   "outputs": [],
   "source": []
  },
  {
   "cell_type": "code",
   "execution_count": null,
   "id": "b6b40873-c2d8-4f7d-9ea9-f264855171bb",
   "metadata": {},
   "outputs": [],
   "source": []
  },
  {
   "cell_type": "code",
   "execution_count": null,
   "id": "47642cfb-639a-418a-9c75-5c6b49192221",
   "metadata": {},
   "outputs": [],
   "source": []
  },
  {
   "cell_type": "code",
   "execution_count": null,
   "id": "fb1b1b97-ba64-4369-bf48-9f1ee823307f",
   "metadata": {},
   "outputs": [],
   "source": []
  },
  {
   "cell_type": "code",
   "execution_count": null,
   "id": "8ef9e718-35c6-4d52-8271-919b3c050f23",
   "metadata": {},
   "outputs": [],
   "source": []
  },
  {
   "cell_type": "code",
   "execution_count": null,
   "id": "70db5ef4-aaaa-40e9-ad7d-3419bdf189cd",
   "metadata": {},
   "outputs": [],
   "source": []
  },
  {
   "cell_type": "code",
   "execution_count": null,
   "id": "57ffc50a-0ced-4227-a2b3-4f1403d3a720",
   "metadata": {},
   "outputs": [],
   "source": []
  },
  {
   "cell_type": "code",
   "execution_count": null,
   "id": "54cf863c-579b-44da-ab5f-6a1123bf86f7",
   "metadata": {},
   "outputs": [],
   "source": []
  },
  {
   "cell_type": "code",
   "execution_count": null,
   "id": "603692bd-65e2-41e1-8b04-1679c1a5cd27",
   "metadata": {},
   "outputs": [],
   "source": []
  },
  {
   "cell_type": "code",
   "execution_count": null,
   "id": "236ac680-412b-4125-ab57-86530c6e7f7e",
   "metadata": {},
   "outputs": [],
   "source": []
  },
  {
   "cell_type": "code",
   "execution_count": null,
   "id": "665f14d0-b598-49fd-9725-c9250330d2d4",
   "metadata": {},
   "outputs": [],
   "source": []
  },
  {
   "cell_type": "code",
   "execution_count": null,
   "id": "0664d66d-2d4a-4851-927a-d2e92511eceb",
   "metadata": {},
   "outputs": [],
   "source": []
  }
 ],
 "metadata": {
  "kernelspec": {
   "display_name": "Python 3 (ipykernel)",
   "language": "python",
   "name": "python3"
  },
  "language_info": {
   "codemirror_mode": {
    "name": "ipython",
    "version": 3
   },
   "file_extension": ".py",
   "mimetype": "text/x-python",
   "name": "python",
   "nbconvert_exporter": "python",
   "pygments_lexer": "ipython3",
   "version": "3.11.0"
  }
 },
 "nbformat": 4,
 "nbformat_minor": 5
}
