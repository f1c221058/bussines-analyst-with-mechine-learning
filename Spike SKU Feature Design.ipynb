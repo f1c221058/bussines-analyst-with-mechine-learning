{
 "cells": [
  {
   "cell_type": "code",
   "execution_count": 1,
   "id": "4b88839c-30ae-4faa-b4cc-c4785289f56f",
   "metadata": {},
   "outputs": [
    {
     "name": "stdout",
     "output_type": "stream",
     "text": [
      "             date        sku_id  clicks  add_to_cart  purchase  spike_flag  \\\n",
      "0      2024-01-01  DQProduk-001       7            0         0           0   \n",
      "1      2024-01-02  DQProduk-001      26            3         1           0   \n",
      "2      2024-01-03  DQProduk-001       7            0         0           0   \n",
      "3      2024-01-04  DQProduk-001       4            0         0           0   \n",
      "4      2024-01-05  DQProduk-001      12            2         1           0   \n",
      "...           ...           ...     ...          ...       ...         ...   \n",
      "22360  2025-09-26  DQProduk-035      12            0         0           0   \n",
      "22361  2025-09-27  DQProduk-035       6            0         0           0   \n",
      "22362  2025-09-28  DQProduk-035       7            0         0           0   \n",
      "22363  2025-09-29  DQProduk-035       7            1         1           0   \n",
      "22364  2025-09-30  DQProduk-035       9            1         0           0   \n",
      "\n",
      "       direct_clicks  google_clicks  ads_clicks  email_clicks  \\\n",
      "0                  2              1           0             2   \n",
      "1                  4              8           9             3   \n",
      "2                  0              1           1             3   \n",
      "3                  1              2           0             1   \n",
      "4                  4              1           4             1   \n",
      "...              ...            ...         ...           ...   \n",
      "22360              2              2           0             2   \n",
      "22361              1              3           2             0   \n",
      "22362              0              3           1             2   \n",
      "22363              1              3           1             0   \n",
      "22364              3              1           0             2   \n",
      "\n",
      "       instagram_clicks  mobile_clicks  desktop_clicks  \n",
      "0                     2              4               3  \n",
      "1                     2             21               5  \n",
      "2                     2              3               4  \n",
      "3                     0              4               0  \n",
      "4                     2              8               4  \n",
      "...                 ...            ...             ...  \n",
      "22360                 6              8               4  \n",
      "22361                 0              4               2  \n",
      "22362                 1              7               0  \n",
      "22363                 2              6               1  \n",
      "22364                 3              8               1  \n",
      "\n",
      "[22365 rows x 13 columns]\n"
     ]
    }
   ],
   "source": [
    "# Import library Pandas\n",
    "import pandas as pd\n",
    "\n",
    "# Baca dataset “funnel.csv”\n",
    "df = pd.read_csv(\"https://storage.googleapis.com/dqlab-dataset/komdigi/tbl_funnel.csv\")\n",
    "\n",
    "# Tampilkan dataframe tersebut.\n",
    "print(df)\n",
    "\n"
   ]
  },
  {
   "cell_type": "code",
   "execution_count": 2,
   "id": "10bbb746-ab6d-4c94-b4d4-5e3985a56a31",
   "metadata": {},
   "outputs": [
    {
     "name": "stdout",
     "output_type": "stream",
     "text": [
      "           date  clicks  add_to_cart  purchase  spike_flag  direct_clicks  \\\n",
      "0    2024-01-01     392           41        17           0             73   \n",
      "1    2024-01-02     394           24         9           0             76   \n",
      "2    2024-01-03     330           25         7           0             62   \n",
      "3    2024-01-04     349           24         9           0             56   \n",
      "4    2024-01-05     373           38        11           0             83   \n",
      "..          ...     ...          ...       ...         ...            ...   \n",
      "634  2025-09-26     375           38        11           0             75   \n",
      "635  2025-09-27     400           37        11           0             84   \n",
      "636  2025-09-28     421           35        12           0             85   \n",
      "637  2025-09-29     390           25        12           0             80   \n",
      "638  2025-09-30     360           18         7           0             72   \n",
      "\n",
      "     google_clicks  ads_clicks  email_clicks  instagram_clicks  mobile_clicks  \\\n",
      "0               71          87            84                77            276   \n",
      "1               83          89            76                70            268   \n",
      "2               62          74            73                59            234   \n",
      "3               79          75            65                74            222   \n",
      "4               71          67            70                82            258   \n",
      "..             ...         ...           ...               ...            ...   \n",
      "634             80          67            78                75            258   \n",
      "635            101          62            75                78            285   \n",
      "636             79          84            76                97            282   \n",
      "637             89          74            73                74            298   \n",
      "638             72          58            83                75            259   \n",
      "\n",
      "     desktop_clicks  click_velocity  \n",
      "0               116             NaN  \n",
      "1               126             2.0  \n",
      "2                96           -64.0  \n",
      "3               127            19.0  \n",
      "4               115            24.0  \n",
      "..              ...             ...  \n",
      "634             117            11.0  \n",
      "635             115            25.0  \n",
      "636             139            21.0  \n",
      "637              92           -31.0  \n",
      "638             101           -30.0  \n",
      "\n",
      "[639 rows x 13 columns]\n"
     ]
    }
   ],
   "source": [
    "\n",
    "\n",
    "# Agregasi tabel berdasarkan kolom date dan jumlahkan metrik numerik lainnya kecuali sku_id\n",
    "daily_df = df.groupby('date').sum(numeric_only=True).reset_index()\n",
    "\n",
    "# Lakukan perhitungan click velocity pada kolom clicks\n",
    "daily_df['click_velocity'] = daily_df['clicks'].diff()\n",
    "\n",
    "# Tampilkan tabel tersebut\n",
    "print(daily_df)\n"
   ]
  },
  {
   "cell_type": "code",
   "execution_count": null,
   "id": "5313d9f3-c0f8-4752-adc1-ce6801fea0e7",
   "metadata": {},
   "outputs": [],
   "source": []
  },
  {
   "cell_type": "code",
   "execution_count": null,
   "id": "69434139-ce27-4c63-b504-ce0c227d71f4",
   "metadata": {},
   "outputs": [],
   "source": []
  },
  {
   "cell_type": "code",
   "execution_count": null,
   "id": "efe8bbaa-6155-4318-b763-469df5dce79b",
   "metadata": {},
   "outputs": [],
   "source": []
  },
  {
   "cell_type": "code",
   "execution_count": null,
   "id": "830a30cb-a897-401d-8aee-6952a854c2d2",
   "metadata": {},
   "outputs": [],
   "source": []
  },
  {
   "cell_type": "code",
   "execution_count": null,
   "id": "9a5777ae-9629-46e6-be8d-a335cfd3b1fa",
   "metadata": {},
   "outputs": [],
   "source": []
  },
  {
   "cell_type": "code",
   "execution_count": null,
   "id": "41246e2d-b575-4111-815d-f7c9a0086797",
   "metadata": {},
   "outputs": [],
   "source": []
  },
  {
   "cell_type": "code",
   "execution_count": null,
   "id": "967e0d0a-fca2-4688-9d07-62450a1b193b",
   "metadata": {},
   "outputs": [],
   "source": []
  },
  {
   "cell_type": "code",
   "execution_count": null,
   "id": "4923c561-3741-4b36-8b58-c93424ef2b02",
   "metadata": {},
   "outputs": [],
   "source": []
  }
 ],
 "metadata": {
  "kernelspec": {
   "display_name": "Python 3 (ipykernel)",
   "language": "python",
   "name": "python3"
  },
  "language_info": {
   "codemirror_mode": {
    "name": "ipython",
    "version": 3
   },
   "file_extension": ".py",
   "mimetype": "text/x-python",
   "name": "python",
   "nbconvert_exporter": "python",
   "pygments_lexer": "ipython3",
   "version": "3.11.0"
  }
 },
 "nbformat": 4,
 "nbformat_minor": 5
}
